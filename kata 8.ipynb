{
 "cells": [
  {
   "cell_type": "code",
   "execution_count": 35,
   "metadata": {},
   "outputs": [
    {
     "name": "stdout",
     "output_type": "stream",
     "text": [
      "El planeta: Marte tiene 2 Lunas\n",
      "El planeta es:  Marte con circunferencia polar de:  6752\n"
     ]
    }
   ],
   "source": [
    "planet = {\n",
    "    'nombre': 'Marte',\n",
    "    'lunas': 2\n",
    "}\n",
    "print(f'El planeta: {planet[\"nombre\"]} tiene {planet[\"lunas\"]} Lunas')\n",
    "# Agrega la clave circunferencia con los datos proporcionados previamente\n",
    "\n",
    "planet.update({\n",
    "    'polar': 6752,\n",
    "    'equatorial': 6792\n",
    "})\n",
    "# Imprime el nombre del planeta con su circunferencia polar.\n",
    "print(f'El planeta es:  {planet[\"nombre\"]} con circunferencia polar de:  {planet[\"polar\"]}')"
   ]
  },
  {
   "cell_type": "markdown",
   "metadata": {},
   "source": [
    "Ejercicio 2"
   ]
  },
  {
   "cell_type": "code",
   "execution_count": 36,
   "metadata": {},
   "outputs": [
    {
     "name": "stdout",
     "output_type": "stream",
     "text": [
      "El total de lunas son: 214\n",
      "El promedio de las lunas de los palnetas conocidos son: 17.833333333333332\n"
     ]
    }
   ],
   "source": [
    "T_Lunas = 0\n",
    "planet_moons = {\n",
    "    'mercury': 0,\n",
    "    'venus': 0,\n",
    "    'earth': 1,\n",
    "    'mars': 2,\n",
    "    'jupiter': 79,\n",
    "    'saturn': 82,\n",
    "    'uranus': 27,\n",
    "    'neptune': 14,\n",
    "    'pluto': 5,\n",
    "    'haumea': 2,\n",
    "    'makemake': 1,\n",
    "    'eris': 1\n",
    "}\n",
    "moons = planet_moons.values()\n",
    "\n",
    "planets = len(planet_moons.keys())\n",
    "for moon in moons:\n",
    "    T_Lunas = T_Lunas + moon\n",
    "\n",
    "prom =float(T_Lunas / planets) \n",
    "print('El total de lunas son: ' + str(T_Lunas))\n",
    "print('El promedio de las lunas de los palnetas conocidos son: '+ str(prom))"
   ]
  }
 ],
 "metadata": {
  "interpreter": {
   "hash": "902f974432e709391bb43b98622db03c76f9a641c8ab9129d2514501a73a2b88"
  },
  "kernelspec": {
   "display_name": "Python 3.9.10 64-bit (windows store)",
   "language": "python",
   "name": "python3"
  },
  "language_info": {
   "codemirror_mode": {
    "name": "ipython",
    "version": 3
   },
   "file_extension": ".py",
   "mimetype": "text/x-python",
   "name": "python",
   "nbconvert_exporter": "python",
   "pygments_lexer": "ipython3",
   "version": "3.9.10"
  },
  "orig_nbformat": 4
 },
 "nbformat": 4,
 "nbformat_minor": 2
}
