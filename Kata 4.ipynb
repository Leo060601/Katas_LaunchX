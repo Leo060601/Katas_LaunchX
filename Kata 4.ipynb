{
 "cells": [
  {
   "cell_type": "markdown",
   "metadata": {},
   "source": [
    "Ejercicio 1"
   ]
  },
  {
   "cell_type": "code",
   "execution_count": 48,
   "metadata": {},
   "outputs": [
    {
     "name": "stdout",
     "output_type": "stream",
     "text": [
      "Interesting facts about the Moon.\n",
      "The Moon is Earth's only satellite.\n",
      "There are several interesting facts about the Moon and how it affects life here on Earth.\n",
      "On average, the Moon moves 4cm away from the Earth every year.\n",
      "This yearly drift is not significant enough to cause immediate effects on Earth.\n",
      "The highest dayli\n",
      "\n"
     ]
    }
   ],
   "source": [
    "Texto_1 = 'Interesting facts about the Moon.\\n'\n",
    "Texto_2 = \"The Moon is Earth's only satellite.\\n\"\n",
    "Texto_3 = 'There are several interesting facts about the Moon and how it affects life here on Earth.\\n'\n",
    "Texto_4 = 'On average, the Moon moves 4cm away from the Earth every year.\\n'\n",
    "Texto_5 = 'This yearly drift is not significant enough to cause immediate effects on Earth.\\n' \n",
    "Texto_6 = 'The highest dayli\\n'\n",
    "\n",
    "Resultado = Texto_1 + Texto_2 + Texto_3 + Texto_4 + Texto_5 + Texto_6\n",
    "print(Resultado)\n",
    "\n"
   ]
  },
  {
   "cell_type": "code",
   "execution_count": 49,
   "metadata": {},
   "outputs": [
    {
     "data": {
      "text/plain": [
       "-1"
      ]
     },
     "execution_count": 49,
     "metadata": {},
     "output_type": "execute_result"
    }
   ],
   "source": [
    "Resultado.find(\"average\")\n",
    "Resultado.find(\"temperature\")\n",
    "Resultado.find(\"distance\")\n"
   ]
  }
 ],
 "metadata": {
  "interpreter": {
   "hash": "902f974432e709391bb43b98622db03c76f9a641c8ab9129d2514501a73a2b88"
  },
  "kernelspec": {
   "display_name": "Python 3.9.10 64-bit (windows store)",
   "language": "python",
   "name": "python3"
  },
  "language_info": {
   "codemirror_mode": {
    "name": "ipython",
    "version": 3
   },
   "file_extension": ".py",
   "mimetype": "text/x-python",
   "name": "python",
   "nbconvert_exporter": "python",
   "pygments_lexer": "ipython3",
   "version": "3.9.10"
  },
  "orig_nbformat": 4
 },
 "nbformat": 4,
 "nbformat_minor": 2
}
