{
 "cells": [
  {
   "cell_type": "markdown",
   "metadata": {},
   "source": [
    "Ejercicio1 - Utilizar operadores aritméticos"
   ]
  },
  {
   "cell_type": "code",
   "execution_count": 33,
   "metadata": {},
   "outputs": [
    {
     "name": "stdout",
     "output_type": "stream",
     "text": [
      "La Tierra esta a: 768959330.0 km de Marte\n",
      "Que en millas serian: 477523743.93\n"
     ]
    }
   ],
   "source": [
    "Tierra = 9587870\n",
    "Marte = 778547200\n",
    "Distancia = float(Tierra - Marte)\n",
    "Millas = Distancia * 0.621\n",
    "print('La Tierra esta a: ' + str(abs(Distancia)) + ' km de Marte')\n",
    "print('Que en millas serian: ' + str(abs(Millas)))"
   ]
  },
  {
   "cell_type": "markdown",
   "metadata": {},
   "source": [
    "Ejercicio 2: convierte cadenas en números y usa valores absolutos"
   ]
  },
  {
   "cell_type": "code",
   "execution_count": 34,
   "metadata": {},
   "outputs": [
    {
     "name": "stdout",
     "output_type": "stream",
     "text": [
      "La Distancia del Sol al primer planeta es: 3 km \n",
      "Que en millas serian: 1.863\n"
     ]
    }
   ],
   "source": [
    "Planeta1 = input(\"Distancia del Sol al primer Planeta\") \n",
    "Planeta2 = input(\"Distancia del Sol al segundo Planeta\")  \n",
    "Planeta1 = int(Planeta1)\n",
    "Planeta2 = int(Planeta2) \n",
    "Distancia = Planeta1 - Planeta2\n",
    "Millas = Distancia * 0.621\n",
    "\n",
    "print('La Distancia del Sol al primer planeta es: ' + str(abs(Distancia)) + ' km ')\n",
    "print('Que en millas serian: ' + str(abs(Millas)))\n"
   ]
  }
 ],
 "metadata": {
  "interpreter": {
   "hash": "902f974432e709391bb43b98622db03c76f9a641c8ab9129d2514501a73a2b88"
  },
  "kernelspec": {
   "display_name": "Python 3.9.10 64-bit (windows store)",
   "language": "python",
   "name": "python3"
  },
  "language_info": {
   "name": "python",
   "version": "3.9.10"
  },
  "orig_nbformat": 4
 },
 "nbformat": 4,
 "nbformat_minor": 2
}
