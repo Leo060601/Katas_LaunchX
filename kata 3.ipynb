{
 "cells": [
  {
   "cell_type": "markdown",
   "metadata": {},
   "source": [
    "Problema No. 1"
   ]
  },
  {
   "cell_type": "code",
   "execution_count": 51,
   "metadata": {},
   "outputs": [
    {
     "name": "stdout",
     "output_type": "stream",
     "text": [
      "Cuidado el asteroide viene a: 49 km/s\n"
     ]
    }
   ],
   "source": [
    "asteroide = 49\n",
    "if asteroide > 25:\n",
    "    print('Cuidado el asteroide viene a: ' + str(asteroide) + ' km/s')\n",
    "else:\n",
    "    print('Todo bien el asteroide viene a: ' + str(asteroide) + ' km/s')\n"
   ]
  },
  {
   "cell_type": "markdown",
   "metadata": {},
   "source": [
    "Problema No. 2"
   ]
  },
  {
   "cell_type": "code",
   "execution_count": 23,
   "metadata": {},
   "outputs": [
    {
     "name": "stdout",
     "output_type": "stream",
     "text": [
      "Podemos ver el rayo de luz va a: 25 km/s\n"
     ]
    }
   ],
   "source": [
    "asteroide = 25\n",
    "if asteroide >= 20:\n",
    "    print('Podemos ver el rayo de luz va a: ' + str(asteroide) + ' km/s')\n",
    "elif asteroide <= 0:\n",
    "    print('No puede tener un valor menor o igual a 0, dado que este viane a : ' + str(asteroide) + ' km/s')\n",
    "else:\n",
    "    print('Viane a: ' + str(asteroide) + 'km/s y no se ve nada')"
   ]
  },
  {
   "cell_type": "markdown",
   "metadata": {},
   "source": [
    "Problema No. 3"
   ]
  },
  {
   "cell_type": "code",
   "execution_count": 48,
   "metadata": {},
   "outputs": [
    {
     "name": "stdout",
     "output_type": "stream",
     "text": [
      "Look up! ¡Hay una luz mágica en el cielo!\n"
     ]
    }
   ],
   "source": [
    "velocidad_asteroide = 20\n",
    "tamano_asteroide = 40\n",
    "if velocidad_asteroide > 25 and tamano_asteroide > 25:\n",
    "    print('Se acerca un asteroide con un tamañano de: ' + str(tamano_asteroide) + ' y con una velocidad de: ' + str(velocidad_asteroide))\n",
    "elif velocidad_asteroide >= 20 or tamano_asteroide < 25:\n",
    "    print('Arriba esta la acción')\n",
    "else:\n",
    "    print('Aqui no se ve nada ')"
   ]
  }
 ],
 "metadata": {
  "interpreter": {
   "hash": "902f974432e709391bb43b98622db03c76f9a641c8ab9129d2514501a73a2b88"
  },
  "kernelspec": {
   "display_name": "Python 3.9.10 64-bit (windows store)",
   "language": "python",
   "name": "python3"
  },
  "language_info": {
   "codemirror_mode": {
    "name": "ipython",
    "version": 3
   },
   "file_extension": ".py",
   "mimetype": "text/x-python",
   "name": "python",
   "nbconvert_exporter": "python",
   "pygments_lexer": "ipython3",
   "version": "3.9.10"
  },
  "orig_nbformat": 4
 },
 "nbformat": 4,
 "nbformat_minor": 2
}
