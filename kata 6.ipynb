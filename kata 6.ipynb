{
 "cells": [
  {
   "cell_type": "markdown",
   "metadata": {},
   "source": [
    "Ejercicio 6"
   ]
  },
  {
   "cell_type": "markdown",
   "metadata": {},
   "source": [
    "Ejercicio1: Crear y usar listas de Python"
   ]
  },
  {
   "cell_type": "code",
   "execution_count": 1,
   "metadata": {},
   "outputs": [
    {
     "name": "stdout",
     "output_type": "stream",
     "text": [
      "Actualmente son: 9 Planetas en el sistema solar.\n",
      "Siendo el ultimo planeta: Plutón\n"
     ]
    }
   ],
   "source": [
    "planets = ['Mercurio', 'Venus', 'Tierra', 'Marte', 'Jupiter', 'Saturno', 'Urano', 'Neptuno']\n",
    "planets.append('Plutón')\n",
    "Numero_De_Planetas = len(planets)\n",
    "print('Actualmente son:', Numero_De_Planetas, 'Planetas en el sistema solar.')\n",
    "print('Siendo el ultimo planeta:', planets[-1])"
   ]
  },
  {
   "cell_type": "code",
   "execution_count": 2,
   "metadata": {},
   "outputs": [
    {
     "name": "stdout",
     "output_type": "stream",
     "text": [
      "Los planetas mas cercanos a: Marte\n",
      "['Mercurio', 'Venus', 'Tierra']\n",
      "Los planetas mas lejanos a: Marte\n",
      "['Jupiter', 'Satruno', 'Neptuno']\n"
     ]
    }
   ],
   "source": [
    "planets = ['Mercurio', 'Venus', 'Tierra', 'Marte', 'Jupiter', 'Satruno', 'Neptuno']\n",
    "Nom_Planeta = input('Ingresa el nombre del planeta (Comenzando con Mayusculas)')\n",
    "Ubi_Planeta = planets.index(Nom_Planeta)\n",
    "print('Los planetas mas cercanos a: ' + Nom_Planeta)\n",
    "print(planets[0:Ubi_Planeta])\n",
    "print('Los planetas mas lejanos a: ' + Nom_Planeta)\n",
    "print(planets[Ubi_Planeta + 1:])"
   ]
  }
 ],
 "metadata": {
  "interpreter": {
   "hash": "902f974432e709391bb43b98622db03c76f9a641c8ab9129d2514501a73a2b88"
  },
  "kernelspec": {
   "display_name": "Python 3.9.10 64-bit (windows store)",
   "language": "python",
   "name": "python3"
  },
  "language_info": {
   "codemirror_mode": {
    "name": "ipython",
    "version": 3
   },
   "file_extension": ".py",
   "mimetype": "text/x-python",
   "name": "python",
   "nbconvert_exporter": "python",
   "pygments_lexer": "ipython3",
   "version": "3.9.10"
  },
  "orig_nbformat": 4
 },
 "nbformat": 4,
 "nbformat_minor": 2
}
