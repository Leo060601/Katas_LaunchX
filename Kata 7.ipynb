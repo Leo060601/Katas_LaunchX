{
 "cells": [
  {
   "cell_type": "code",
   "execution_count": 3,
   "metadata": {},
   "outputs": [
    {
     "name": "stdout",
     "output_type": "stream",
     "text": [
      "El primer planeta es:  []\n",
      "El segundo planeta es:  []\n",
      "El tercero planeta es:  []\n",
      "El cuarto planeta es:  []\n",
      "El quinto planeta es:  []\n",
      "El sexto planeta es:  []\n",
      "El septimo planeta es:  []\n",
      "El primer planeta es:  ['Marte']\n",
      "El segundo planeta es:  ['Marte']\n",
      "El tercero planeta es:  ['Marte']\n",
      "El cuarto planeta es:  ['Marte']\n",
      "El quinto planeta es:  ['Marte']\n",
      "El sexto planeta es:  ['Marte']\n",
      "El septimo planeta es:  ['Marte']\n",
      "El primer planeta es:  ['Marte', 'Satruno']\n",
      "El segundo planeta es:  ['Marte', 'Satruno']\n",
      "El tercero planeta es:  ['Marte', 'Satruno']\n",
      "El cuarto planeta es:  ['Marte', 'Satruno']\n",
      "El quinto planeta es:  ['Marte', 'Satruno']\n",
      "El sexto planeta es:  ['Marte', 'Satruno']\n",
      "El septimo planeta es:  ['Marte', 'Satruno']\n",
      "El primer planeta es:  ['Marte', 'Satruno', 'Venus']\n",
      "El segundo planeta es:  ['Marte', 'Satruno', 'Venus']\n",
      "El tercero planeta es:  ['Marte', 'Satruno', 'Venus']\n",
      "El cuarto planeta es:  ['Marte', 'Satruno', 'Venus']\n",
      "El quinto planeta es:  ['Marte', 'Satruno', 'Venus']\n",
      "El sexto planeta es:  ['Marte', 'Satruno', 'Venus']\n",
      "El septimo planeta es:  ['Marte', 'Satruno', 'Venus']\n",
      "El primer planeta es:  ['Marte', 'Satruno', 'Venus', 'Jupiter']\n",
      "El segundo planeta es:  ['Marte', 'Satruno', 'Venus', 'Jupiter']\n",
      "El tercero planeta es:  ['Marte', 'Satruno', 'Venus', 'Jupiter']\n",
      "El cuarto planeta es:  ['Marte', 'Satruno', 'Venus', 'Jupiter']\n",
      "El quinto planeta es:  ['Marte', 'Satruno', 'Venus', 'Jupiter']\n",
      "El sexto planeta es:  ['Marte', 'Satruno', 'Venus', 'Jupiter']\n",
      "El septimo planeta es:  ['Marte', 'Satruno', 'Venus', 'Jupiter']\n",
      "El primer planeta es:  ['Marte', 'Satruno', 'Venus', 'Jupiter', 'Satruno']\n",
      "El segundo planeta es:  ['Marte', 'Satruno', 'Venus', 'Jupiter', 'Satruno']\n",
      "El tercero planeta es:  ['Marte', 'Satruno', 'Venus', 'Jupiter', 'Satruno']\n",
      "El cuarto planeta es:  ['Marte', 'Satruno', 'Venus', 'Jupiter', 'Satruno']\n",
      "El quinto planeta es:  ['Marte', 'Satruno', 'Venus', 'Jupiter', 'Satruno']\n",
      "El sexto planeta es:  ['Marte', 'Satruno', 'Venus', 'Jupiter', 'Satruno']\n",
      "El septimo planeta es:  ['Marte', 'Satruno', 'Venus', 'Jupiter', 'Satruno']\n"
     ]
    }
   ],
   "source": [
    "# Creamos la variable que almacena el texto\n",
    "new_planet = ''\n",
    "# Creamos la lista que almacena cada uno de los textos que el usuario ingresa\n",
    "planets = []\n",
    "\n",
    "# Ciclo while\n",
    "while new_planet.lower() != 'done':\n",
    "    # Verificamos si hay un valor en user_input\n",
    "    if new_planet:\n",
    "        # Almacenamos ese valor en la lista\n",
    "        planets.append(new_planet)\n",
    "    # Capturamos un nuevo valor\n",
    "    new_planet = input('Ingresa un nuevo valor o escribe done para terminar')\n",
    "    print(\"El primer planeta es: \", planets)\n",
    "    print(\"El segundo planeta es: \", planets)\n",
    "    print(\"El tercero planeta es: \", planets)\n",
    "    print(\"El cuarto planeta es: \", planets)\n",
    "    print(\"El quinto planeta es: \", planets)\n",
    "    print(\"El sexto planeta es: \", planets)\n",
    "    print(\"El septimo planeta es: \", planets)"
   ]
  }
 ],
 "metadata": {
  "interpreter": {
   "hash": "902f974432e709391bb43b98622db03c76f9a641c8ab9129d2514501a73a2b88"
  },
  "kernelspec": {
   "display_name": "Python 3.9.10 64-bit (windows store)",
   "language": "python",
   "name": "python3"
  },
  "language_info": {
   "codemirror_mode": {
    "name": "ipython",
    "version": 3
   },
   "file_extension": ".py",
   "mimetype": "text/x-python",
   "name": "python",
   "nbconvert_exporter": "python",
   "pygments_lexer": "ipython3",
   "version": "3.9.10"
  },
  "orig_nbformat": 4
 },
 "nbformat": 4,
 "nbformat_minor": 2
}
