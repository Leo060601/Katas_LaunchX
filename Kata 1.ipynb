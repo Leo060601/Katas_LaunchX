{
 "cells": [
  {
   "cell_type": "markdown",
   "metadata": {},
   "source": [
    "Tu Primer Programa"
   ]
  },
  {
   "cell_type": "code",
   "execution_count": 1,
   "metadata": {},
   "outputs": [
    {
     "name": "stdout",
     "output_type": "stream",
     "text": [
      "El dia de hoy es: 2022-02-09\n"
     ]
    }
   ],
   "source": [
    "from datetime import date\n",
    "date.today()\n",
    "print(\"El dia de hoy es: \" + str(date.today()))"
   ]
  },
  {
   "cell_type": "code",
   "execution_count": 2,
   "metadata": {},
   "outputs": [
    {
     "name": "stdout",
     "output_type": "stream",
     "text": [
      "11 parsec, son 35.877159999999996 años luz\n"
     ]
    }
   ],
   "source": [
    "parsec = 11\n",
    "lightyears = parsec * 3.26156 \n",
    "\n",
    "print(str(parsec) + \" parsec, son \" + str(lightyears) + \" años luz\")"
   ]
  }
 ],
 "metadata": {
  "interpreter": {
   "hash": "902f974432e709391bb43b98622db03c76f9a641c8ab9129d2514501a73a2b88"
  },
  "kernelspec": {
   "display_name": "Python 3.9.10 64-bit (windows store)",
   "language": "python",
   "name": "python3"
  },
  "language_info": {
   "codemirror_mode": {
    "name": "ipython",
    "version": 3
   },
   "file_extension": ".py",
   "mimetype": "text/x-python",
   "name": "python",
   "nbconvert_exporter": "python",
   "pygments_lexer": "ipython3",
   "version": "3.9.10"
  },
  "orig_nbformat": 4
 },
 "nbformat": 4,
 "nbformat_minor": 2
}
